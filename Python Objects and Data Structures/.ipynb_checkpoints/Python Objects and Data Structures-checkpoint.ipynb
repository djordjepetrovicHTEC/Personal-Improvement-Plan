{
 "cells": [
  {
   "cell_type": "markdown",
   "id": "f16eb176-cf88-4e08-baf6-ac758195fe7d",
   "metadata": {},
   "source": [
    "## **Subtask 1: Creating and Manipulating Lists**"
   ]
  },
  {
   "cell_type": "markdown",
   "id": "7c7cdacb-662e-492d-9fef-bbc603d57f1e",
   "metadata": {},
   "source": [
    "### Create an empty list called my_list."
   ]
  },
  {
   "cell_type": "code",
   "execution_count": 93,
   "id": "e1d9d251-ddbf-4b56-acfe-2b34d49ddead",
   "metadata": {},
   "outputs": [],
   "source": [
    "my_list = []"
   ]
  },
  {
   "cell_type": "markdown",
   "id": "f4fcbe79-5de3-4342-8d3e-106c7007945e",
   "metadata": {},
   "source": [
    "### Append the integers 1, 2, and 3 to my_list."
   ]
  },
  {
   "cell_type": "code",
   "execution_count": 94,
   "id": "97f0f510-ec7a-4501-8066-f367a51f77f7",
   "metadata": {},
   "outputs": [],
   "source": [
    "my_list.append(1)\n",
    "my_list.append(2)\n",
    "my_list.append(3)"
   ]
  },
  {
   "cell_type": "markdown",
   "id": "124b4e4c-f1dd-43ed-b9a9-30ad6e3e67b6",
   "metadata": {},
   "source": [
    "### Add the string \"hello\" to my_list."
   ]
  },
  {
   "cell_type": "code",
   "execution_count": 95,
   "id": "3971f8ef-43b3-4f26-8371-637b5774e3af",
   "metadata": {},
   "outputs": [],
   "source": [
    "my_list.insert(len(my_list),'hello')"
   ]
  },
  {
   "cell_type": "markdown",
   "id": "786659ac-a00a-44da-8537-5e75dd7abf7c",
   "metadata": {},
   "source": [
    "### Print my_list."
   ]
  },
  {
   "cell_type": "code",
   "execution_count": 96,
   "id": "ad1f3b9b-1e6a-4962-8b45-cf5b4abb3945",
   "metadata": {},
   "outputs": [
    {
     "name": "stdout",
     "output_type": "stream",
     "text": [
      "[1, 2, 3, 'hello']\n"
     ]
    }
   ],
   "source": [
    "print(my_list)"
   ]
  },
  {
   "cell_type": "markdown",
   "id": "dfb78cc4-d914-423c-9df2-eec1283cb7ff",
   "metadata": {},
   "source": [
    "### Remove the integer 2 from my_list."
   ]
  },
  {
   "cell_type": "code",
   "execution_count": 7,
   "id": "863aea59-1159-4e67-b416-96fc2919a875",
   "metadata": {},
   "outputs": [],
   "source": [
    "my_list.remove(2)"
   ]
  },
  {
   "cell_type": "markdown",
   "id": "9a91235a-51d8-405c-96e5-c04549f7e134",
   "metadata": {},
   "source": [
    "### Print the length of my_list."
   ]
  },
  {
   "cell_type": "code",
   "execution_count": 11,
   "id": "796a36ef-f5bb-423f-801a-a6ee46f2b460",
   "metadata": {},
   "outputs": [
    {
     "data": {
      "text/plain": [
       "3"
      ]
     },
     "execution_count": 11,
     "metadata": {},
     "output_type": "execute_result"
    }
   ],
   "source": [
    "len(my_list)"
   ]
  },
  {
   "cell_type": "markdown",
   "id": "f693c93c-5d21-45bd-be5e-31e9037431fb",
   "metadata": {},
   "source": [
    "### Print the first element of my_list."
   ]
  },
  {
   "cell_type": "code",
   "execution_count": 14,
   "id": "f9786822-0a88-4657-9b0d-9c482a8c6331",
   "metadata": {},
   "outputs": [
    {
     "name": "stdout",
     "output_type": "stream",
     "text": [
      "1\n"
     ]
    }
   ],
   "source": [
    "print(my_list[0])"
   ]
  },
  {
   "cell_type": "markdown",
   "id": "2e22df6c-c2f4-4ab0-b0ca-63f92a9f2026",
   "metadata": {},
   "source": [
    "---"
   ]
  },
  {
   "cell_type": "markdown",
   "id": "d1494677-7147-4da6-8507-05e47049db6f",
   "metadata": {},
   "source": [
    "## **Subtask 2: Working with Dictionaries**"
   ]
  },
  {
   "cell_type": "markdown",
   "id": "9b06a93e-6298-4bc3-9b48-4ccba7d20a78",
   "metadata": {},
   "source": [
    "### Create an empty dictionary called my_dict."
   ]
  },
  {
   "cell_type": "code",
   "execution_count": 15,
   "id": "923cac0e-65b2-46dc-956f-52e5facc1039",
   "metadata": {},
   "outputs": [],
   "source": [
    "my_dict = {}"
   ]
  },
  {
   "cell_type": "markdown",
   "id": "a4bf90ee-b9e9-4be1-ab5f-da6b256b7bcb",
   "metadata": {},
   "source": [
    "### Add the key-value pair 'name': 'John' to my_dict."
   ]
  },
  {
   "cell_type": "code",
   "execution_count": 19,
   "id": "cfb275d9-cbe7-4174-bfc2-6ec1a9fe7a17",
   "metadata": {},
   "outputs": [],
   "source": [
    "#option #1\n",
    "my_dict = {\"name\":\"John\"}"
   ]
  },
  {
   "cell_type": "markdown",
   "id": "fb2bf8da-9824-4478-a355-a1da6ab75295",
   "metadata": {},
   "source": [
    "### Add the key-value pair 'age': 25 to my_dict."
   ]
  },
  {
   "cell_type": "code",
   "execution_count": 21,
   "id": "503ae3db-6613-4819-b317-00a86fb12c91",
   "metadata": {},
   "outputs": [],
   "source": [
    "#option #2\n",
    "my_dict[\"age\"] = 25"
   ]
  },
  {
   "cell_type": "markdown",
   "id": "a9cdca15-9ff5-4f9c-8f15-211aefe3bf15",
   "metadata": {},
   "source": [
    "### Print my_dict."
   ]
  },
  {
   "cell_type": "code",
   "execution_count": 22,
   "id": "69782ef8-71d7-4939-8dd1-85cdf429177e",
   "metadata": {},
   "outputs": [
    {
     "name": "stdout",
     "output_type": "stream",
     "text": [
      "{'name': 'John', 'age': 25}\n"
     ]
    }
   ],
   "source": [
    "print(my_dict)"
   ]
  },
  {
   "cell_type": "markdown",
   "id": "eb08974b-7cfc-41ff-8ee4-0311ca075163",
   "metadata": {},
   "source": [
    "### Update the value of the 'age' key to 30."
   ]
  },
  {
   "cell_type": "code",
   "execution_count": 26,
   "id": "568f06bd-cf05-4da8-8445-9421067924f2",
   "metadata": {},
   "outputs": [],
   "source": [
    "my_dict[\"age\"] = 30"
   ]
  },
  {
   "cell_type": "markdown",
   "id": "239ea0b2-dedc-44f0-ac26-28aa16999b60",
   "metadata": {},
   "source": [
    "### Print all the keys in my_dict."
   ]
  },
  {
   "cell_type": "code",
   "execution_count": 24,
   "id": "f6e13605-a80e-475a-9c85-5b02ddb3c153",
   "metadata": {},
   "outputs": [
    {
     "data": {
      "text/plain": [
       "dict_keys(['name', 'age'])"
      ]
     },
     "execution_count": 24,
     "metadata": {},
     "output_type": "execute_result"
    }
   ],
   "source": [
    "my_dict.keys()"
   ]
  },
  {
   "cell_type": "markdown",
   "id": "0f7152f4-61b0-42d0-96d4-4353c93ae45d",
   "metadata": {},
   "source": [
    "### Print all the values in my_dict."
   ]
  },
  {
   "cell_type": "code",
   "execution_count": 27,
   "id": "32447c1d-9ece-4fbf-85ee-a7b10ec12f98",
   "metadata": {},
   "outputs": [
    {
     "data": {
      "text/plain": [
       "dict_values(['John', 30])"
      ]
     },
     "execution_count": 27,
     "metadata": {},
     "output_type": "execute_result"
    }
   ],
   "source": [
    "my_dict.values()"
   ]
  },
  {
   "cell_type": "markdown",
   "id": "3795bdcb-0062-4b0b-af8b-0760005e5a07",
   "metadata": {},
   "source": [
    "---"
   ]
  },
  {
   "cell_type": "markdown",
   "id": "b74783d7-16d0-4c1d-84a1-0bff9173bcb2",
   "metadata": {},
   "source": [
    "## **Subtask 3: Understanding Sets**"
   ]
  },
  {
   "cell_type": "markdown",
   "id": "ec8d1b29-d4f8-4ebe-846a-64e1c482b438",
   "metadata": {},
   "source": [
    "### Create a set called my_set containing the integers 1, 2, 3, and 4."
   ]
  },
  {
   "cell_type": "code",
   "execution_count": 39,
   "id": "2443f54b-4e8b-463e-afdf-396492d07b9d",
   "metadata": {},
   "outputs": [],
   "source": [
    "my_set = {1,2,3,4}"
   ]
  },
  {
   "cell_type": "markdown",
   "id": "d881be97-e38d-4cdb-a709-05fbac219b7d",
   "metadata": {},
   "source": [
    "### Add the integer 5 to my_set."
   ]
  },
  {
   "cell_type": "code",
   "execution_count": 41,
   "id": "472eec15-78b7-4397-a940-2197ac36296a",
   "metadata": {},
   "outputs": [],
   "source": [
    "my_set.add(5)"
   ]
  },
  {
   "cell_type": "markdown",
   "id": "f7fa97ea-b078-4468-b3b5-a67b1f0112ad",
   "metadata": {},
   "source": [
    "### Remove the integer 3 from my_set."
   ]
  },
  {
   "cell_type": "code",
   "execution_count": 43,
   "id": "4989b589-7d4f-4444-8672-5904857b52ff",
   "metadata": {},
   "outputs": [],
   "source": [
    "my_set.remove(3)"
   ]
  },
  {
   "cell_type": "markdown",
   "id": "d1fe4fe5-bf4f-4433-a540-7aa3a69a77d5",
   "metadata": {},
   "source": [
    "### Print my_set."
   ]
  },
  {
   "cell_type": "code",
   "execution_count": 62,
   "id": "7551d904-7c53-4185-acf2-fc6cfa8577e5",
   "metadata": {},
   "outputs": [
    {
     "name": "stdout",
     "output_type": "stream",
     "text": [
      "{1, 2, 4, 5}\n"
     ]
    }
   ],
   "source": [
    "print(my_set)"
   ]
  },
  {
   "cell_type": "markdown",
   "id": "11de196e-b480-4296-abb4-2941f630e333",
   "metadata": {},
   "source": [
    "### Create another set called other_set containing the integers 3, 4, 5, and 6."
   ]
  },
  {
   "cell_type": "code",
   "execution_count": 52,
   "id": "72873a10-48e7-4cc8-a2de-5764441af6a8",
   "metadata": {},
   "outputs": [],
   "source": [
    "other_set = {3,4,5,6}"
   ]
  },
  {
   "cell_type": "markdown",
   "id": "eb6cd458-bcc4-4ed8-930f-4825bad1877b",
   "metadata": {},
   "source": [
    "### Find the intersection of my_set and other_set."
   ]
  },
  {
   "cell_type": "code",
   "execution_count": 71,
   "id": "08dda9cd-edaa-41cc-ada0-7e52e4532339",
   "metadata": {},
   "outputs": [
    {
     "name": "stdout",
     "output_type": "stream",
     "text": [
      "my_set is {1, 2, 4, 5}\n",
      "other_set is {3, 4, 5, 6}\n",
      "intersection is {4, 5}\n"
     ]
    }
   ],
   "source": [
    "print(\"my_set is\",my_set)\n",
    "print(\"other_set is\",other_set)\n",
    "print(\"intersection is\",my_set.intersection(other_set))"
   ]
  },
  {
   "cell_type": "markdown",
   "id": "2a462d42-4abc-40f2-bb0c-14f2bcc4b0ea",
   "metadata": {},
   "source": [
    "### Find the union of my_set and other_set."
   ]
  },
  {
   "cell_type": "code",
   "execution_count": 73,
   "id": "55c209ee-9c0b-40d2-91fc-5ca5401538d8",
   "metadata": {},
   "outputs": [
    {
     "name": "stdout",
     "output_type": "stream",
     "text": [
      "my_set is {1, 2, 4, 5}\n",
      "other_set is {3, 4, 5, 6}\n",
      "union is {1, 2, 3, 4, 5, 6}\n"
     ]
    }
   ],
   "source": [
    "print(\"my_set is\",my_set)\n",
    "print(\"other_set is\",other_set)\n",
    "print(\"union is\",my_set.union(other_set))"
   ]
  },
  {
   "cell_type": "markdown",
   "id": "6c49aa2f-ba49-4f1c-9552-3667c68b3252",
   "metadata": {},
   "source": [
    "---"
   ]
  },
  {
   "cell_type": "markdown",
   "id": "3686183a-a795-484d-ba93-8c82e0bf973f",
   "metadata": {},
   "source": [
    "## **Subtask 4: Exploring Tuples**"
   ]
  },
  {
   "cell_type": "markdown",
   "id": "1027894f-7ecf-445e-b0fb-be7bc5a91b59",
   "metadata": {},
   "source": [
    "### Create a tuple called my_tuple containing the strings \"apple\", \"banana\", and \"cherry\"."
   ]
  },
  {
   "cell_type": "code",
   "execution_count": 97,
   "id": "ed956ab8-58f7-445d-9bb8-233feb065bed",
   "metadata": {},
   "outputs": [],
   "source": [
    "my_tuple = (\"apple\", \"banana\", \"cherry\")"
   ]
  },
  {
   "cell_type": "markdown",
   "id": "788f5ae5-97e8-40ff-b4f3-230ab780d45d",
   "metadata": {},
   "source": [
    "### Print the second element of my_tuple."
   ]
  },
  {
   "cell_type": "code",
   "execution_count": 98,
   "id": "768ce432-6ed6-40de-bd5f-b97433c107c1",
   "metadata": {},
   "outputs": [
    {
     "name": "stdout",
     "output_type": "stream",
     "text": [
      "banana\n"
     ]
    }
   ],
   "source": [
    "print(my_tuple[1])"
   ]
  },
  {
   "cell_type": "markdown",
   "id": "f4c66922-0c5a-4bb8-9d33-6b2847ea4fd3",
   "metadata": {},
   "source": [
    "### Attempt to change the first element of my_tuple to \"orange\" and observe the result."
   ]
  },
  {
   "cell_type": "code",
   "execution_count": 108,
   "id": "98b5e97a-1397-4f78-a621-e685b08f3e49",
   "metadata": {},
   "outputs": [
    {
     "ename": "TypeError",
     "evalue": "'tuple' object does not support item assignment",
     "output_type": "error",
     "traceback": [
      "\u001b[1;31m---------------------------------------------------------------------------\u001b[0m",
      "\u001b[1;31mTypeError\u001b[0m                                 Traceback (most recent call last)",
      "Cell \u001b[1;32mIn[108], line 2\u001b[0m\n\u001b[0;32m      1\u001b[0m \u001b[38;5;66;03m#Wont work because tupples are immutable! This is possible with idea to cast tupple into list than cast back to tuple after adding our desired item.\u001b[39;00m\n\u001b[1;32m----> 2\u001b[0m my_tuple[\u001b[38;5;241m0\u001b[39m]\u001b[38;5;241m=\u001b[39m\u001b[38;5;124m\"\u001b[39m\u001b[38;5;124morange\u001b[39m\u001b[38;5;124m\"\u001b[39m\n",
      "\u001b[1;31mTypeError\u001b[0m: 'tuple' object does not support item assignment"
     ]
    }
   ],
   "source": [
    "#Wont work because tupples are immutable! This is possible with idea to cast tupple into list than cast back to tuple after adding our desired item.\n",
    "my_tuple[0]=\"orange\""
   ]
  },
  {
   "cell_type": "markdown",
   "id": "f2762dbf-7ce4-42ab-aeaa-487e8c84a506",
   "metadata": {},
   "source": [
    "### Print the length of my_tuple."
   ]
  },
  {
   "cell_type": "code",
   "execution_count": 109,
   "id": "326aaa03-e39a-41da-91d1-104b6b5f0b66",
   "metadata": {},
   "outputs": [
    {
     "data": {
      "text/plain": [
       "3"
      ]
     },
     "execution_count": 109,
     "metadata": {},
     "output_type": "execute_result"
    }
   ],
   "source": [
    "len(my_tuple)"
   ]
  },
  {
   "cell_type": "markdown",
   "id": "e8ed6202-ee20-4b78-8819-f6e68b62d310",
   "metadata": {},
   "source": [
    "### Concatenate my_tuple with another tuple containing the strings \"date\" and \"elderberry\"."
   ]
  },
  {
   "cell_type": "code",
   "execution_count": 105,
   "id": "cd9cd09a-e048-48d7-878a-d2c84bbf922e",
   "metadata": {},
   "outputs": [],
   "source": [
    "my_tuple2 = (\"date\", \"elderberry\")\n",
    "end_tuple = my_tuple + my_tuple2"
   ]
  },
  {
   "cell_type": "markdown",
   "id": "6d2da63a-616c-415b-945b-ee1a4525aa7b",
   "metadata": {},
   "source": [
    "### Print the result of the concatenation."
   ]
  },
  {
   "cell_type": "code",
   "execution_count": 106,
   "id": "f7eb1995-1b26-46f5-8059-ea4e205d7a63",
   "metadata": {},
   "outputs": [
    {
     "name": "stdout",
     "output_type": "stream",
     "text": [
      "('apple', 'banana', 'cherry', 'date', 'elderberry')\n"
     ]
    }
   ],
   "source": [
    "print(end_tuple)"
   ]
  },
  {
   "cell_type": "markdown",
   "id": "d191b065-8f37-42d0-8596-ac1eb86b606a",
   "metadata": {},
   "source": [
    "---"
   ]
  },
  {
   "cell_type": "markdown",
   "id": "0cdbb612-b61b-4953-9bdf-9a6c0bb875ed",
   "metadata": {},
   "source": [
    "## **Subtask 5: Learning about Strings**"
   ]
  },
  {
   "cell_type": "markdown",
   "id": "b2d95199-0178-4d49-880f-21c6c6211145",
   "metadata": {},
   "source": [
    "### Create a string variable called my_string containing any sentence of your choice."
   ]
  },
  {
   "cell_type": "code",
   "execution_count": 5,
   "id": "4d4adaca-73c5-4b8f-9dad-aebb1272d0a0",
   "metadata": {},
   "outputs": [],
   "source": [
    "my_string = \"This is some sentence\""
   ]
  },
  {
   "cell_type": "markdown",
   "id": "33f53a8d-466a-431b-a787-1be609e7c3f3",
   "metadata": {},
   "source": [
    "### Print the length of my_string."
   ]
  },
  {
   "cell_type": "code",
   "execution_count": 6,
   "id": "dd1d6a64-911a-442b-8861-1b33f36b2a20",
   "metadata": {},
   "outputs": [
    {
     "data": {
      "text/plain": [
       "21"
      ]
     },
     "execution_count": 6,
     "metadata": {},
     "output_type": "execute_result"
    }
   ],
   "source": [
    "len(my_string)"
   ]
  },
  {
   "cell_type": "markdown",
   "id": "dd2e41c5-75f5-46e4-bdfa-ab4009b1a81e",
   "metadata": {},
   "source": [
    "### Print the first three characters of my_string."
   ]
  },
  {
   "cell_type": "code",
   "execution_count": 7,
   "id": "5585d096-9e89-4d10-a745-6a2a93856c12",
   "metadata": {},
   "outputs": [
    {
     "name": "stdout",
     "output_type": "stream",
     "text": [
      "Thi\n"
     ]
    }
   ],
   "source": [
    "print(my_string[0:3])"
   ]
  },
  {
   "cell_type": "markdown",
   "id": "b15ef3e5-ef30-475e-ab45-5e12ad4eb0a7",
   "metadata": {},
   "source": [
    "### Print the last three characters of my_string."
   ]
  },
  {
   "cell_type": "code",
   "execution_count": 8,
   "id": "4807ccba-df8e-48fb-8d8c-de296ad1151c",
   "metadata": {},
   "outputs": [
    {
     "name": "stdout",
     "output_type": "stream",
     "text": [
      "nce\n"
     ]
    }
   ],
   "source": [
    "print(my_string[-3:])"
   ]
  },
  {
   "cell_type": "markdown",
   "id": "8b5de7bd-de2d-425f-8418-b54a6e2d9069",
   "metadata": {},
   "source": [
    "### Check if the word \"Python\" is present in my_string."
   ]
  },
  {
   "cell_type": "code",
   "execution_count": 9,
   "id": "aa78ed7f-1a43-46be-a261-1db060ec624e",
   "metadata": {},
   "outputs": [
    {
     "name": "stdout",
     "output_type": "stream",
     "text": [
      "Our testing string is:  This is some sentence\n"
     ]
    },
    {
     "data": {
      "text/plain": [
       "-1"
      ]
     },
     "execution_count": 9,
     "metadata": {},
     "output_type": "execute_result"
    }
   ],
   "source": [
    "print(\"Our testing string is: \",my_string)\n",
    "my_string.find(\"Python\")\n",
    "# we got -1 if its not located in our str otherwise if it is located we will receive index where our wanted word starts"
   ]
  },
  {
   "cell_type": "markdown",
   "id": "f4d1b09d-9750-435b-bd35-4d54f95c1cdf",
   "metadata": {},
   "source": [
    "### Replace any whitespace in my_string with underscores."
   ]
  },
  {
   "cell_type": "code",
   "execution_count": 11,
   "id": "2c7f7d19-e4ae-4236-8886-be760cdf840b",
   "metadata": {},
   "outputs": [
    {
     "data": {
      "text/plain": [
       "'This_is_some_sentence'"
      ]
     },
     "execution_count": 11,
     "metadata": {},
     "output_type": "execute_result"
    }
   ],
   "source": [
    "my_string.replace(\" \",\"_\")"
   ]
  },
  {
   "cell_type": "markdown",
   "id": "d2866ad4-7793-4ba1-946e-30d3af9e06e1",
   "metadata": {},
   "source": [
    "### Convert my_string to uppercase and print the result."
   ]
  },
  {
   "cell_type": "code",
   "execution_count": 12,
   "id": "983f9f29-94f3-488b-8316-f365fa15a295",
   "metadata": {},
   "outputs": [
    {
     "name": "stdout",
     "output_type": "stream",
     "text": [
      "THIS IS SOME SENTENCE\n"
     ]
    }
   ],
   "source": [
    "upper = my_string.upper()\n",
    "print(upper)"
   ]
  },
  {
   "cell_type": "markdown",
   "id": "3bf0bbb8-c95c-4635-93df-35b75e782ba3",
   "metadata": {},
   "source": [
    "---"
   ]
  },
  {
   "cell_type": "markdown",
   "id": "29e8dee9-ba42-4b7a-bdfd-9b1558e2a7e6",
   "metadata": {},
   "source": [
    "## **Subtask 6: Creating Custom Classes**"
   ]
  },
  {
   "cell_type": "markdown",
   "id": "33e57932-2531-41af-80f1-8426495b9d64",
   "metadata": {},
   "source": [
    "### Create a class called Car with attributes make, model, and year."
   ]
  },
  {
   "cell_type": "code",
   "execution_count": 6,
   "id": "bd29067a-4a33-476a-be1c-58b07dc8e800",
   "metadata": {},
   "outputs": [],
   "source": [
    "class Car():\n",
    "\n",
    "    def __init__(self,make,model,year):\n",
    "        self.make = make\n",
    "        self.model = model\n",
    "        self.year = year"
   ]
  },
  {
   "cell_type": "markdown",
   "id": "88e85f59-1188-4b49-853c-46b53e5f5a58",
   "metadata": {},
   "source": [
    "### Write a method within the class called display_info that prints out the car's make, model, and year."
   ]
  },
  {
   "cell_type": "code",
   "execution_count": 34,
   "id": "bbabd316-11bc-468f-b4db-d3908d61fc99",
   "metadata": {},
   "outputs": [],
   "source": [
    "class Car():\n",
    "\n",
    "    def __init__(self,make,model,year):\n",
    "        self.make = make\n",
    "        self.model = model\n",
    "        self.year = year\n",
    "    def display_info(self):\n",
    "        print(\"make: {} \\nmodel: {}\\nyear: {}\".format(self.make,self.model,self.year))\n",
    "        "
   ]
  },
  {
   "cell_type": "markdown",
   "id": "ef3cfce1-4ffb-467a-9f1e-4963c7fefd9e",
   "metadata": {},
   "source": [
    "### Create an instance of the Car class with the make \"Toyota\", model \"Camry\", and year 2020."
   ]
  },
  {
   "cell_type": "code",
   "execution_count": 35,
   "id": "d2eebe2f-e0ca-4d16-a679-ce7a99165961",
   "metadata": {},
   "outputs": [],
   "source": [
    "car1 = Car(\"Toyota\",\"Camry\",\"2020\")"
   ]
  },
  {
   "cell_type": "markdown",
   "id": "8dcdbf2f-1d07-4473-9c50-9f570ea4254e",
   "metadata": {},
   "source": [
    "### Call the display_info method on the instance to display the car's information."
   ]
  },
  {
   "cell_type": "code",
   "execution_count": 36,
   "id": "388f8e9f-023b-4d85-a78a-08ea01ad4648",
   "metadata": {},
   "outputs": [
    {
     "name": "stdout",
     "output_type": "stream",
     "text": [
      "make: Toyota \n",
      "model: Camry\n",
      "year: 2020\n"
     ]
    }
   ],
   "source": [
    "car1.display_info()"
   ]
  },
  {
   "cell_type": "markdown",
   "id": "b3cc09cf-f159-4ccf-b118-45f855604bf0",
   "metadata": {},
   "source": [
    "---"
   ]
  },
  {
   "cell_type": "markdown",
   "id": "f0b098e4-2a9e-4753-9e4a-572873d106c1",
   "metadata": {},
   "source": [
    "# Bonus:"
   ]
  },
  {
   "cell_type": "markdown",
   "id": "e9b69165-b463-48f3-b0c7-2dc9f76724bd",
   "metadata": {},
   "source": [
    "### Implement error handling for user input, such as ensuring the correct data type is entered for certain tasks.\n"
   ]
  },
  {
   "cell_type": "code",
   "execution_count": 2,
   "id": "16cb3cfe-9dfa-405c-b3a7-8cd37f89e15c",
   "metadata": {},
   "outputs": [],
   "source": [
    "def error_handling():\n",
    "    while True:\n",
    "        try:\n",
    "            test = int(input(\"Please enter some number: \"))\n",
    "        except:\n",
    "            print(\"Wrong format, try with number please!\")\n",
    "        else:\n",
    "            print(\"Thank you for providing number\")\n",
    "            break"
   ]
  },
  {
   "cell_type": "code",
   "execution_count": 3,
   "id": "086de188-1cc7-4f1c-8ca3-1abd58b061d0",
   "metadata": {},
   "outputs": [
    {
     "name": "stdin",
     "output_type": "stream",
     "text": [
      "Please enter some number:  dsa\n"
     ]
    },
    {
     "name": "stdout",
     "output_type": "stream",
     "text": [
      "Wrong format, try with number please!\n"
     ]
    },
    {
     "name": "stdin",
     "output_type": "stream",
     "text": [
      "Please enter some number:  1\n"
     ]
    },
    {
     "name": "stdout",
     "output_type": "stream",
     "text": [
      "Thank you for providing number\n"
     ]
    }
   ],
   "source": [
    "error_handling()"
   ]
  },
  {
   "cell_type": "markdown",
   "id": "cf130d01-b6ee-454c-95c9-b96a1fc0ecf3",
   "metadata": {},
   "source": [
    "### Encapsulate the subtasks into separate functions for better organization and reusability"
   ]
  },
  {
   "cell_type": "code",
   "execution_count": null,
   "id": "d9560017-cb25-4c0d-85cd-267e4fb520de",
   "metadata": {},
   "outputs": [],
   "source": [
    "#Task above encapsulated with function error_handling"
   ]
  }
 ],
 "metadata": {
  "kernelspec": {
   "display_name": "Python 3 (ipykernel)",
   "language": "python",
   "name": "python3"
  },
  "language_info": {
   "codemirror_mode": {
    "name": "ipython",
    "version": 3
   },
   "file_extension": ".py",
   "mimetype": "text/x-python",
   "name": "python",
   "nbconvert_exporter": "python",
   "pygments_lexer": "ipython3",
   "version": "3.11.7"
  }
 },
 "nbformat": 4,
 "nbformat_minor": 5
}
