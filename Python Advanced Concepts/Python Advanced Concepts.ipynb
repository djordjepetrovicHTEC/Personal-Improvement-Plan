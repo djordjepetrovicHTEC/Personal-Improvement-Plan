{
 "cells": [
  {
   "cell_type": "markdown",
   "id": "f16eb176-cf88-4e08-baf6-ac758195fe7d",
   "metadata": {},
   "source": [
    "## **Subtask 1: Error/Exception Handling**"
   ]
  },
  {
   "cell_type": "markdown",
   "id": "7c7cdacb-662e-492d-9fef-bbc603d57f1e",
   "metadata": {},
   "source": [
    "### Create a function called divide_numbers that takes two integers as input and returns the result of dividing the first number by the second."
   ]
  },
  {
   "cell_type": "code",
   "execution_count": 8,
   "id": "e1d9d251-ddbf-4b56-acfe-2b34d49ddead",
   "metadata": {},
   "outputs": [],
   "source": [
    "def divide_numbers(x,y):\n",
    "    return x/y    "
   ]
  },
  {
   "cell_type": "code",
   "execution_count": 13,
   "id": "2dd68593-b524-40ac-9d2f-6e7d915385cd",
   "metadata": {},
   "outputs": [
    {
     "data": {
      "text/plain": [
       "2.0"
      ]
     },
     "execution_count": 13,
     "metadata": {},
     "output_type": "execute_result"
    }
   ],
   "source": [
    "divide_numbers(6,3)"
   ]
  },
  {
   "cell_type": "markdown",
   "id": "f4fcbe79-5de3-4342-8d3e-106c7007945e",
   "metadata": {},
   "source": [
    "### Handle the ZeroDivisionError exception by displaying a message to the user if the second number is zero."
   ]
  },
  {
   "cell_type": "code",
   "execution_count": 15,
   "id": "97f0f510-ec7a-4501-8066-f367a51f77f7",
   "metadata": {},
   "outputs": [],
   "source": [
    "def divide_numbers(x,y):\n",
    "    try:\n",
    "        return x/y\n",
    "    except ZeroDivisionError:\n",
    "        print(\"Error, second number cannot be zero!\")"
   ]
  },
  {
   "cell_type": "code",
   "execution_count": 16,
   "id": "6a3212c6-f3a0-449e-98c5-83d24c01c644",
   "metadata": {},
   "outputs": [
    {
     "name": "stdout",
     "output_type": "stream",
     "text": [
      "Error, second number cannot be zero!\n"
     ]
    }
   ],
   "source": [
    "divide_numbers(6,0)"
   ]
  },
  {
   "cell_type": "markdown",
   "id": "124b4e4c-f1dd-43ed-b9a9-30ad6e3e67b6",
   "metadata": {},
   "source": [
    "### Handle the ValueError exception by displaying a message to the user if non-integer input is provided."
   ]
  },
  {
   "cell_type": "code",
   "execution_count": 29,
   "id": "3971f8ef-43b3-4f26-8371-637b5774e3af",
   "metadata": {},
   "outputs": [],
   "source": [
    "def divide_numbers(x,y):\n",
    "    try:\n",
    "        x = int(x)\n",
    "        y = int(y)\n",
    "        return x/y\n",
    "    except ValueError:\n",
    "        print(\"Error, only try with integers!\")"
   ]
  },
  {
   "cell_type": "code",
   "execution_count": 32,
   "id": "143fd9fc-26f8-4476-8626-c9ea3946d596",
   "metadata": {},
   "outputs": [
    {
     "name": "stdout",
     "output_type": "stream",
     "text": [
      "Error, only try with integers!\n"
     ]
    }
   ],
   "source": [
    "divide_numbers(2,\"test\")"
   ]
  },
  {
   "cell_type": "markdown",
   "id": "2e22df6c-c2f4-4ab0-b0ca-63f92a9f2026",
   "metadata": {},
   "source": [
    "---"
   ]
  },
  {
   "cell_type": "markdown",
   "id": "d1494677-7147-4da6-8507-05e47049db6f",
   "metadata": {},
   "source": [
    "## **Subtask 2: Using Decorators**"
   ]
  },
  {
   "cell_type": "markdown",
   "id": "9b06a93e-6298-4bc3-9b48-4ccba7d20a78",
   "metadata": {},
   "source": [
    "### Create a decorator function called debug that prints the name of the function being called and its arguments."
   ]
  },
  {
   "cell_type": "code",
   "execution_count": 147,
   "id": "923cac0e-65b2-46dc-956f-52e5facc1039",
   "metadata": {},
   "outputs": [],
   "source": [
    "def debug(original_func):\n",
    "\n",
    "    def wrap_func(*args):\n",
    "        print(\"##################\")\n",
    "        print(f\"Function {original_func.__name__} is called with arguments:\")\n",
    "        print(f\"x is {args[0]}\")\n",
    "        print(f\"y is {args[1]}\")\n",
    "        original_func(*args)\n",
    "        print(\"******************\")\n",
    "    return wrap_func"
   ]
  },
  {
   "cell_type": "markdown",
   "id": "a4bf90ee-b9e9-4be1-ab5f-da6b256b7bcb",
   "metadata": {},
   "source": [
    "### Apply the debug decorator to the divide_numbers function."
   ]
  },
  {
   "cell_type": "code",
   "execution_count": 148,
   "id": "cfb275d9-cbe7-4174-bfc2-6ec1a9fe7a17",
   "metadata": {},
   "outputs": [],
   "source": [
    "@debug\n",
    "def divide_numbers(x,y):\n",
    "    try:\n",
    "        result = x/y\n",
    "        print(f\"x/y is {result}\")\n",
    "    except:\n",
    "        print(\"ERROR! Please use numbers!\")"
   ]
  },
  {
   "cell_type": "markdown",
   "id": "fb2bf8da-9824-4478-a355-a1da6ab75295",
   "metadata": {},
   "source": [
    "### Test the decorated divide_numbers function with various inputs and observe the debug output."
   ]
  },
  {
   "cell_type": "code",
   "execution_count": 150,
   "id": "503ae3db-6613-4819-b317-00a86fb12c91",
   "metadata": {},
   "outputs": [
    {
     "name": "stdout",
     "output_type": "stream",
     "text": [
      "##################\n",
      "Function divide_numbers is called with arguments:\n",
      "x is 10\n",
      "y is 2\n",
      "x/y is 5.0\n",
      "******************\n"
     ]
    }
   ],
   "source": [
    "divide_numbers(10,2)"
   ]
  },
  {
   "cell_type": "code",
   "execution_count": 151,
   "id": "312d0788-a320-46f8-8f2f-b8094b5dca72",
   "metadata": {},
   "outputs": [
    {
     "name": "stdout",
     "output_type": "stream",
     "text": [
      "##################\n",
      "Function divide_numbers is called with arguments:\n",
      "x is 10\n",
      "y is text\n",
      "ERROR! Please use numbers!\n",
      "******************\n"
     ]
    }
   ],
   "source": [
    "divide_numbers(10,\"text\")"
   ]
  },
  {
   "cell_type": "markdown",
   "id": "3795bdcb-0062-4b0b-af8b-0760005e5a07",
   "metadata": {},
   "source": [
    "---"
   ]
  },
  {
   "cell_type": "markdown",
   "id": "b74783d7-16d0-4c1d-84a1-0bff9173bcb2",
   "metadata": {},
   "source": [
    "## **Subtask 3: Working with Generators**"
   ]
  },
  {
   "cell_type": "markdown",
   "id": "ec8d1b29-d4f8-4ebe-846a-64e1c482b438",
   "metadata": {},
   "source": [
    "### Create a generator function called generate_fibonacci that yields the Fibonacci sequence up to a specified limit.."
   ]
  },
  {
   "cell_type": "code",
   "execution_count": 58,
   "id": "53e506eb-2800-4609-9caa-c78d99a34f6e",
   "metadata": {},
   "outputs": [],
   "source": [
    "def generate_fibonacci(limit):\n",
    "    a, b = 0, 1\n",
    "    \n",
    "    for num in range(limit):\n",
    "        yield a\n",
    "        a, b = b, a + b"
   ]
  },
  {
   "cell_type": "markdown",
   "id": "d881be97-e38d-4cdb-a709-05fbac219b7d",
   "metadata": {},
   "source": [
    "### Use the generate_fibonacci generator to print the Fibonacci sequence up to the 10th number."
   ]
  },
  {
   "cell_type": "code",
   "execution_count": 59,
   "id": "b3fe3bfc-576c-4f7b-9fb6-89170ccc47a8",
   "metadata": {},
   "outputs": [
    {
     "data": {
      "text/plain": [
       "[0, 1, 1, 2, 3, 5, 8, 13, 21, 34]"
      ]
     },
     "execution_count": 59,
     "metadata": {},
     "output_type": "execute_result"
    }
   ],
   "source": [
    "list(generate_fibonacci(10))"
   ]
  },
  {
   "cell_type": "markdown",
   "id": "f7fa97ea-b078-4468-b3b5-a67b1f0112ad",
   "metadata": {},
   "source": [
    "### Write a generator expression that generates the squares of numbers from 1 to 5."
   ]
  },
  {
   "cell_type": "code",
   "execution_count": 49,
   "id": "4989b589-7d4f-4444-8672-5904857b52ff",
   "metadata": {},
   "outputs": [],
   "source": [
    "def generate_exp():\n",
    "    for num in range(1,6):\n",
    "        yield num*num"
   ]
  },
  {
   "cell_type": "code",
   "execution_count": 50,
   "id": "6736631a-1df5-4d10-8938-19c13578cf5e",
   "metadata": {},
   "outputs": [
    {
     "data": {
      "text/plain": [
       "[1, 4, 9, 16, 25]"
      ]
     },
     "execution_count": 50,
     "metadata": {},
     "output_type": "execute_result"
    }
   ],
   "source": [
    "list(generate_exp())"
   ]
  },
  {
   "cell_type": "markdown",
   "id": "d1fe4fe5-bf4f-4433-a540-7aa3a69a77d5",
   "metadata": {},
   "source": [
    "### Use a loop to print the squares generated by the generator expression."
   ]
  },
  {
   "cell_type": "code",
   "execution_count": 51,
   "id": "7551d904-7c53-4185-acf2-fc6cfa8577e5",
   "metadata": {},
   "outputs": [
    {
     "name": "stdout",
     "output_type": "stream",
     "text": [
      "1\n",
      "4\n",
      "9\n",
      "16\n",
      "25\n"
     ]
    }
   ],
   "source": [
    "for num in generate_exp():\n",
    "    print(num)"
   ]
  },
  {
   "cell_type": "markdown",
   "id": "6c49aa2f-ba49-4f1c-9552-3667c68b3252",
   "metadata": {},
   "source": [
    "---"
   ]
  },
  {
   "cell_type": "markdown",
   "id": "3686183a-a795-484d-ba93-8c82e0bf973f",
   "metadata": {},
   "source": [
    "## **Subtask 4: Exception Handling in Generators**"
   ]
  },
  {
   "cell_type": "markdown",
   "id": "1027894f-7ecf-445e-b0fb-be7bc5a91b59",
   "metadata": {},
   "source": [
    "### Modify the generate_fibonacci generator to handle a ValueError if the limit provided is not a positive integer."
   ]
  },
  {
   "cell_type": "code",
   "execution_count": 97,
   "id": "ed956ab8-58f7-445d-9bb8-233feb065bed",
   "metadata": {},
   "outputs": [],
   "source": [
    "def generate_fibonacci(limit):\n",
    "    a, b = 0, 1\n",
    "\n",
    "    if limit < 0:\n",
    "        raise ValueError(\"Please provide POSITIVE integer!\")\n",
    "    \n",
    "    for num in range(limit):\n",
    "        try:\n",
    "            yield a\n",
    "            a, b = b, a + b\n",
    "        except ValueError as va:\n",
    "            print(va)"
   ]
  },
  {
   "cell_type": "markdown",
   "id": "788f5ae5-97e8-40ff-b4f3-230ab780d45d",
   "metadata": {},
   "source": [
    "### Test the modified generate_fibonacci generator with various input types to ensure proper error handling."
   ]
  },
  {
   "cell_type": "code",
   "execution_count": 100,
   "id": "768ce432-6ed6-40de-bd5f-b97433c107c1",
   "metadata": {},
   "outputs": [
    {
     "name": "stdout",
     "output_type": "stream",
     "text": [
      "[0, 1, 1, 2, 3, 5, 8, 13, 21, 34]\n"
     ]
    }
   ],
   "source": [
    "test = list(generate_fibonacci(10))\n",
    "try:\n",
    "    print(test)\n",
    "except ValueError:\n",
    "    print(\"Please provide POSITIVE number!\")"
   ]
  },
  {
   "cell_type": "code",
   "execution_count": 106,
   "id": "a6f9710e-27d2-4a79-88bb-88cde7d13807",
   "metadata": {},
   "outputs": [
    {
     "ename": "ValueError",
     "evalue": "Please provide POSITIVE integer!",
     "output_type": "error",
     "traceback": [
      "\u001b[1;31m---------------------------------------------------------------------------\u001b[0m",
      "\u001b[1;31mValueError\u001b[0m                                Traceback (most recent call last)",
      "Cell \u001b[1;32mIn[106], line 1\u001b[0m\n\u001b[1;32m----> 1\u001b[0m test \u001b[38;5;241m=\u001b[39m \u001b[38;5;28mlist\u001b[39m(generate_fibonacci(\u001b[38;5;241m-\u001b[39m\u001b[38;5;241m10\u001b[39m))\n\u001b[0;32m      2\u001b[0m \u001b[38;5;28;01mtry\u001b[39;00m:\n\u001b[0;32m      3\u001b[0m     \u001b[38;5;28mprint\u001b[39m(test)\n",
      "Cell \u001b[1;32mIn[97], line 5\u001b[0m, in \u001b[0;36mgenerate_fibonacci\u001b[1;34m(limit)\u001b[0m\n\u001b[0;32m      2\u001b[0m a, b \u001b[38;5;241m=\u001b[39m \u001b[38;5;241m0\u001b[39m, \u001b[38;5;241m1\u001b[39m\n\u001b[0;32m      4\u001b[0m \u001b[38;5;28;01mif\u001b[39;00m limit \u001b[38;5;241m<\u001b[39m \u001b[38;5;241m0\u001b[39m:\n\u001b[1;32m----> 5\u001b[0m     \u001b[38;5;28;01mraise\u001b[39;00m \u001b[38;5;167;01mValueError\u001b[39;00m(\u001b[38;5;124m\"\u001b[39m\u001b[38;5;124mPlease provide POSITIVE integer!\u001b[39m\u001b[38;5;124m\"\u001b[39m)\n\u001b[0;32m      7\u001b[0m \u001b[38;5;28;01mfor\u001b[39;00m num \u001b[38;5;129;01min\u001b[39;00m \u001b[38;5;28mrange\u001b[39m(limit):\n\u001b[0;32m      8\u001b[0m     \u001b[38;5;28;01mtry\u001b[39;00m:\n",
      "\u001b[1;31mValueError\u001b[0m: Please provide POSITIVE integer!"
     ]
    }
   ],
   "source": [
    "test = list(generate_fibonacci(-10))\n",
    "try:\n",
    "    print(test)\n",
    "except ValueError:\n",
    "    print(\"Please provide POSITIVE number!\")"
   ]
  },
  {
   "cell_type": "markdown",
   "id": "d191b065-8f37-42d0-8596-ac1eb86b606a",
   "metadata": {},
   "source": [
    "---"
   ]
  },
  {
   "cell_type": "markdown",
   "id": "0cdbb612-b61b-4953-9bdf-9a6c0bb875ed",
   "metadata": {},
   "source": [
    "## **Subtask 5: Combining Concepts**"
   ]
  },
  {
   "cell_type": "markdown",
   "id": "b2d95199-0178-4d49-880f-21c6c6211145",
   "metadata": {},
   "source": [
    "### Create a function called safe_divide_fibonacci that takes two integers as input, divides them, and generates the Fibonacci sequence up to the quotient."
   ]
  },
  {
   "cell_type": "code",
   "execution_count": 3,
   "id": "6e3a4a36-0929-44df-a1df-ac012d19e9df",
   "metadata": {},
   "outputs": [],
   "source": [
    "def safe_divide_fibonacci(x, y):\n",
    "    if y == 0:\n",
    "        raise ValueError(\"Division by zero is not allowed\")\n",
    "    \n",
    "    quotient = x // y\n",
    "    fibonacci_sequence = [0, 1]\n",
    "    while fibonacci_sequence[-1] < quotient:\n",
    "        fibonacci_sequence.append(fibonacci_sequence[-1] + fibonacci_sequence[-2])\n",
    "    \n",
    "    return fibonacci_sequence"
   ]
  },
  {
   "cell_type": "markdown",
   "id": "33f53a8d-466a-431b-a787-1be609e7c3f3",
   "metadata": {},
   "source": [
    "### Apply the debug decorator to the safe_divide_fibonacci function."
   ]
  },
  {
   "cell_type": "code",
   "execution_count": 27,
   "id": "f12d265f-d659-4ab1-ad76-c07b614466bd",
   "metadata": {},
   "outputs": [],
   "source": [
    "def debug(original_func):\n",
    "    def wrap_func(*args):\n",
    "        print(\"##################\")\n",
    "        print(f\"Function {original_func.__name__} is called with arguments:\")\n",
    "        try:\n",
    "            result = original_func(*args)\n",
    "            print(\"Result is:\", result)\n",
    "        except Exception as e:\n",
    "            print(\"Error occurred:\", e)\n",
    "            raise\n",
    "        finally:\n",
    "            print(\"******************\")\n",
    "    return wrap_func"
   ]
  },
  {
   "cell_type": "code",
   "execution_count": 28,
   "id": "dd1d6a64-911a-442b-8861-1b33f36b2a20",
   "metadata": {},
   "outputs": [],
   "source": [
    "@debug\n",
    "def safe_divide_fibonacci(x, y):\n",
    "    if not isinstance(x, int) or not isinstance(y, int):\n",
    "        raise TypeError(\"Arguments must be integers\")\n",
    "    if y == 0:\n",
    "        raise ValueError(\"Division by zero is not allowed\")\n",
    "        \n",
    "    quotient = x // y\n",
    "    fibonacci_sequence = [0, 1]\n",
    "    while fibonacci_sequence[-1] < quotient:\n",
    "        fibonacci_sequence.append(fibonacci_sequence[-1] + fibonacci_sequence[-2])\n",
    "    \n",
    "    return fibonacci_sequence"
   ]
  },
  {
   "cell_type": "markdown",
   "id": "dd2e41c5-75f5-46e4-bdfa-ab4009b1a81e",
   "metadata": {},
   "source": [
    "### Test the safe_divide_fibonacci function with different inputs, ensuring proper error handling and debug output."
   ]
  },
  {
   "cell_type": "code",
   "execution_count": 24,
   "id": "86f90dc8-ef51-4463-b255-18b941ed6399",
   "metadata": {},
   "outputs": [
    {
     "name": "stdout",
     "output_type": "stream",
     "text": [
      "##################\n",
      "Function safe_divide_fibonacci is called with arguments:\n",
      "Result is: [0, 1, 1, 2, 3, 5]\n",
      "******************\n"
     ]
    }
   ],
   "source": [
    "safe_divide_fibonacci(10, 2)"
   ]
  },
  {
   "cell_type": "code",
   "execution_count": 26,
   "id": "fa08ddd7-52ee-48e2-816b-1bb5ee2dcfb1",
   "metadata": {},
   "outputs": [
    {
     "name": "stdout",
     "output_type": "stream",
     "text": [
      "##################\n",
      "Function safe_divide_fibonacci is called with arguments:\n",
      "Error occurred: unsupported operand type(s) for //: 'int' and 'str'\n",
      "******************\n"
     ]
    },
    {
     "ename": "TypeError",
     "evalue": "unsupported operand type(s) for //: 'int' and 'str'",
     "output_type": "error",
     "traceback": [
      "\u001b[1;31m---------------------------------------------------------------------------\u001b[0m",
      "\u001b[1;31mTypeError\u001b[0m                                 Traceback (most recent call last)",
      "Cell \u001b[1;32mIn[26], line 1\u001b[0m\n\u001b[1;32m----> 1\u001b[0m safe_divide_fibonacci(\u001b[38;5;241m10\u001b[39m, \u001b[38;5;124m\"\u001b[39m\u001b[38;5;124mstr\u001b[39m\u001b[38;5;124m\"\u001b[39m)\n",
      "Cell \u001b[1;32mIn[22], line 6\u001b[0m, in \u001b[0;36mdebug.<locals>.wrap_func\u001b[1;34m(*args)\u001b[0m\n\u001b[0;32m      4\u001b[0m \u001b[38;5;28mprint\u001b[39m(\u001b[38;5;124mf\u001b[39m\u001b[38;5;124m\"\u001b[39m\u001b[38;5;124mFunction \u001b[39m\u001b[38;5;132;01m{\u001b[39;00moriginal_func\u001b[38;5;241m.\u001b[39m\u001b[38;5;18m__name__\u001b[39m\u001b[38;5;132;01m}\u001b[39;00m\u001b[38;5;124m is called with arguments:\u001b[39m\u001b[38;5;124m\"\u001b[39m)\n\u001b[0;32m      5\u001b[0m \u001b[38;5;28;01mtry\u001b[39;00m:\n\u001b[1;32m----> 6\u001b[0m     result \u001b[38;5;241m=\u001b[39m original_func(\u001b[38;5;241m*\u001b[39margs)\n\u001b[0;32m      7\u001b[0m     \u001b[38;5;28mprint\u001b[39m(\u001b[38;5;124m\"\u001b[39m\u001b[38;5;124mResult is:\u001b[39m\u001b[38;5;124m\"\u001b[39m, result)\n\u001b[0;32m      8\u001b[0m \u001b[38;5;28;01mexcept\u001b[39;00m \u001b[38;5;167;01mException\u001b[39;00m \u001b[38;5;28;01mas\u001b[39;00m e:\n",
      "Cell \u001b[1;32mIn[23], line 6\u001b[0m, in \u001b[0;36msafe_divide_fibonacci\u001b[1;34m(x, y)\u001b[0m\n\u001b[0;32m      3\u001b[0m \u001b[38;5;28;01mif\u001b[39;00m y \u001b[38;5;241m==\u001b[39m \u001b[38;5;241m0\u001b[39m:\n\u001b[0;32m      4\u001b[0m     \u001b[38;5;28;01mraise\u001b[39;00m \u001b[38;5;167;01mValueError\u001b[39;00m(\u001b[38;5;124m\"\u001b[39m\u001b[38;5;124mDivision by zero is not allowed\u001b[39m\u001b[38;5;124m\"\u001b[39m)\n\u001b[1;32m----> 6\u001b[0m quotient \u001b[38;5;241m=\u001b[39m x \u001b[38;5;241m/\u001b[39m\u001b[38;5;241m/\u001b[39m y\n\u001b[0;32m      7\u001b[0m fibonacci_sequence \u001b[38;5;241m=\u001b[39m [\u001b[38;5;241m0\u001b[39m, \u001b[38;5;241m1\u001b[39m]\n\u001b[0;32m      8\u001b[0m \u001b[38;5;28;01mwhile\u001b[39;00m fibonacci_sequence[\u001b[38;5;241m-\u001b[39m\u001b[38;5;241m1\u001b[39m] \u001b[38;5;241m<\u001b[39m quotient:\n",
      "\u001b[1;31mTypeError\u001b[0m: unsupported operand type(s) for //: 'int' and 'str'"
     ]
    }
   ],
   "source": [
    "safe_divide_fibonacci(10, \"str\")"
   ]
  },
  {
   "cell_type": "code",
   "execution_count": 29,
   "id": "3bf229f0-29fe-4ad4-9558-605cb6a8b828",
   "metadata": {},
   "outputs": [
    {
     "name": "stdout",
     "output_type": "stream",
     "text": [
      "##################\n",
      "Function safe_divide_fibonacci is called with arguments:\n",
      "Error occurred: Arguments must be integers\n",
      "******************\n"
     ]
    },
    {
     "ename": "TypeError",
     "evalue": "Arguments must be integers",
     "output_type": "error",
     "traceback": [
      "\u001b[1;31m---------------------------------------------------------------------------\u001b[0m",
      "\u001b[1;31mTypeError\u001b[0m                                 Traceback (most recent call last)",
      "Cell \u001b[1;32mIn[29], line 1\u001b[0m\n\u001b[1;32m----> 1\u001b[0m safe_divide_fibonacci(\u001b[38;5;124m\"\u001b[39m\u001b[38;5;124m10\u001b[39m\u001b[38;5;124m\"\u001b[39m, \u001b[38;5;241m2\u001b[39m)\n",
      "Cell \u001b[1;32mIn[27], line 6\u001b[0m, in \u001b[0;36mdebug.<locals>.wrap_func\u001b[1;34m(*args)\u001b[0m\n\u001b[0;32m      4\u001b[0m \u001b[38;5;28mprint\u001b[39m(\u001b[38;5;124mf\u001b[39m\u001b[38;5;124m\"\u001b[39m\u001b[38;5;124mFunction \u001b[39m\u001b[38;5;132;01m{\u001b[39;00moriginal_func\u001b[38;5;241m.\u001b[39m\u001b[38;5;18m__name__\u001b[39m\u001b[38;5;132;01m}\u001b[39;00m\u001b[38;5;124m is called with arguments:\u001b[39m\u001b[38;5;124m\"\u001b[39m)\n\u001b[0;32m      5\u001b[0m \u001b[38;5;28;01mtry\u001b[39;00m:\n\u001b[1;32m----> 6\u001b[0m     result \u001b[38;5;241m=\u001b[39m original_func(\u001b[38;5;241m*\u001b[39margs)\n\u001b[0;32m      7\u001b[0m     \u001b[38;5;28mprint\u001b[39m(\u001b[38;5;124m\"\u001b[39m\u001b[38;5;124mResult is:\u001b[39m\u001b[38;5;124m\"\u001b[39m, result)\n\u001b[0;32m      8\u001b[0m \u001b[38;5;28;01mexcept\u001b[39;00m \u001b[38;5;167;01mException\u001b[39;00m \u001b[38;5;28;01mas\u001b[39;00m e:\n",
      "Cell \u001b[1;32mIn[28], line 4\u001b[0m, in \u001b[0;36msafe_divide_fibonacci\u001b[1;34m(x, y)\u001b[0m\n\u001b[0;32m      1\u001b[0m \u001b[38;5;129m@debug\u001b[39m\n\u001b[0;32m      2\u001b[0m \u001b[38;5;28;01mdef\u001b[39;00m \u001b[38;5;21msafe_divide_fibonacci\u001b[39m(x, y):\n\u001b[0;32m      3\u001b[0m     \u001b[38;5;28;01mif\u001b[39;00m \u001b[38;5;129;01mnot\u001b[39;00m \u001b[38;5;28misinstance\u001b[39m(x, \u001b[38;5;28mint\u001b[39m) \u001b[38;5;129;01mor\u001b[39;00m \u001b[38;5;129;01mnot\u001b[39;00m \u001b[38;5;28misinstance\u001b[39m(y, \u001b[38;5;28mint\u001b[39m):\n\u001b[1;32m----> 4\u001b[0m         \u001b[38;5;28;01mraise\u001b[39;00m \u001b[38;5;167;01mTypeError\u001b[39;00m(\u001b[38;5;124m\"\u001b[39m\u001b[38;5;124mArguments must be integers\u001b[39m\u001b[38;5;124m\"\u001b[39m)\n\u001b[0;32m      5\u001b[0m     \u001b[38;5;28;01mif\u001b[39;00m y \u001b[38;5;241m==\u001b[39m \u001b[38;5;241m0\u001b[39m:\n\u001b[0;32m      6\u001b[0m         \u001b[38;5;28;01mraise\u001b[39;00m \u001b[38;5;167;01mValueError\u001b[39;00m(\u001b[38;5;124m\"\u001b[39m\u001b[38;5;124mDivision by zero is not allowed\u001b[39m\u001b[38;5;124m\"\u001b[39m)\n",
      "\u001b[1;31mTypeError\u001b[0m: Arguments must be integers"
     ]
    }
   ],
   "source": [
    "safe_divide_fibonacci(\"10\", 2)"
   ]
  },
  {
   "cell_type": "markdown",
   "id": "b32c6538-a77f-4c3c-a6b3-877fcba512f2",
   "metadata": {},
   "source": [
    "---"
   ]
  },
  {
   "cell_type": "markdown",
   "id": "0d412916-0f90-400c-aea9-34509593f12d",
   "metadata": {},
   "source": [
    "# Bonus:"
   ]
  },
  {
   "cell_type": "markdown",
   "id": "affaa205-8c94-45ea-a3fb-3035511dcf40",
   "metadata": {},
   "source": [
    "### Implement additional error handling for invalid input types in the safe_divide_fibonacci function."
   ]
  }
 ],
 "metadata": {
  "kernelspec": {
   "display_name": "Python 3 (ipykernel)",
   "language": "python",
   "name": "python3"
  },
  "language_info": {
   "codemirror_mode": {
    "name": "ipython",
    "version": 3
   },
   "file_extension": ".py",
   "mimetype": "text/x-python",
   "name": "python",
   "nbconvert_exporter": "python",
   "pygments_lexer": "ipython3",
   "version": "3.11.7"
  }
 },
 "nbformat": 4,
 "nbformat_minor": 5
}
